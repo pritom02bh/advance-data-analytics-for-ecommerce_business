{
 "cells": [
  {
   "cell_type": "code",
   "execution_count": 2,
   "metadata": {},
   "outputs": [],
   "source": [
    "import os\n",
    "import pandas as pd\n",
    "import numpy as np\n",
    "import matplotlib.pyplot as plt\n",
    "import seaborn as sns\n",
    "from datetime import datetime, timedelta\n",
    "from sklearn.cluster import KMeans\n",
    "from sklearn.preprocessing import StandardScaler\n",
    "from sklearn.linear_model import LogisticRegression\n",
    "from sklearn.metrics import classification_report, confusion_matrix\n",
    "from sklearn.model_selection import train_test_split\n",
    "from statsmodels.tsa.arima.model import ARIMA\n",
    "from mlxtend.frequent_patterns import apriori, association_rules"
   ]
  },
  {
   "cell_type": "code",
   "execution_count": 3,
   "metadata": {},
   "outputs": [],
   "source": [
    "# Global visualization style\n",
    "sns.set(style=\"whitegrid\", palette=\"muted\", color_codes=True)\n",
    "plt.rcParams[\"figure.figsize\"] = (10, 6)"
   ]
  },
  {
   "cell_type": "markdown",
   "metadata": {},
   "source": [
    "### 1. Data Loading & Preprocessing"
   ]
  },
  {
   "cell_type": "code",
   "execution_count": null,
   "metadata": {},
   "outputs": [],
   "source": [
    "def load_data(data_directory: str = \".\"):\n",
    "    \"\"\"\n",
    "    Load CSV files generated from the e-commerce data generator into Pandas DataFrames.\n",
    "    Expected files:\n",
    "      - ecommerce_transactions.csv\n",
    "      - ecommerce_competitor_data.csv\n",
    "      - ecommerce_market_trends.csv\n",
    "      - ecommerce_marketing_campaigns.csv\n",
    "      - ecommerce_customers.csv\n",
    "      - ecommerce_products.csv\n",
    "    \"\"\"\n",
    "    file_names = {\n",
    "        'transactions': 'transactions.csv',\n",
    "        'competitor_data': 'competitor_data.csv',\n",
    "        'market_trends': 'market_trends.csv',\n",
    "        'marketing_campaigns': 'marketing_campaigns.csv',\n",
    "        'customers': 'customers.csv',\n",
    "        'products': 'products.csv'\n",
    "    }\n",
    "    \n",
    "    data = {}\n",
    "    for key, filename in file_names.items():\n",
    "        path = os.path.join(data_directory, filename)\n",
    "        if os.path.exists(path):\n",
    "            print(f\"Loading {filename}...\")\n",
    "            # parse_dates is used for date columns when automatically inferred\n",
    "            data[key] = pd.read_csv(path, low_memory=False, parse_dates=True)\n",
    "        else:\n",
    "            print(f\"Warning: {filename} not found in {data_directory}.\")\n",
    "            data[key] = pd.DataFrame()\n",
    "    \n",
    "    return data\n",
    "\n",
    "def exploratory_data_analysis(dfs: dict):\n",
    "    \"\"\"\n",
    "    Perform Exploratory Data Analysis (EDA) on the transactions, customers, and products datasets.\n",
    "    Outputs:\n",
    "      - Summary statistics.\n",
    "      - Missing values analysis.\n",
    "      - Visualizations for distributions and relationships.\n",
    "    \"\"\"\n",
    "    transactions = dfs.get('transactions')\n",
    "    customers = dfs.get('customers')\n",
    "    products = dfs.get('products')\n",
    "    \n",
    "    print(\"\\n=== TRANSACTIONS DATA ===\")\n",
    "    print(transactions.info())\n",
    "    print(transactions.describe(include='all'))"
   ]
  },
  {
   "cell_type": "code",
   "execution_count": null,
   "metadata": {},
   "outputs": [
    {
     "ename": "NameError",
     "evalue": "name 'merged_df' is not defined",
     "output_type": "error",
     "traceback": [
      "\u001b[1;31m---------------------------------------------------------------------------\u001b[0m",
      "\u001b[1;31mNameError\u001b[0m                                 Traceback (most recent call last)",
      "Cell \u001b[1;32mIn[7], line 43\u001b[0m\n\u001b[0;32m     35\u001b[0m     merged_df[\u001b[38;5;124m\"\u001b[39m\u001b[38;5;124mDiscount_Ratio\u001b[39m\u001b[38;5;124m\"\u001b[39m] \u001b[38;5;241m=\u001b[39m np\u001b[38;5;241m.\u001b[39mwhere(\n\u001b[0;32m     36\u001b[0m         merged_df[\u001b[38;5;124m\"\u001b[39m\u001b[38;5;124mBase_Price\u001b[39m\u001b[38;5;124m\"\u001b[39m] \u001b[38;5;241m>\u001b[39m \u001b[38;5;241m0\u001b[39m,\n\u001b[0;32m     37\u001b[0m         (merged_df[\u001b[38;5;124m\"\u001b[39m\u001b[38;5;124mBase_Price\u001b[39m\u001b[38;5;124m\"\u001b[39m] \u001b[38;5;241m-\u001b[39m merged_df[\u001b[38;5;124m\"\u001b[39m\u001b[38;5;124mFinal_Price\u001b[39m\u001b[38;5;124m\"\u001b[39m]) \u001b[38;5;241m/\u001b[39m merged_df[\u001b[38;5;124m\"\u001b[39m\u001b[38;5;124mBase_Price\u001b[39m\u001b[38;5;124m\"\u001b[39m],\n\u001b[0;32m     38\u001b[0m         \u001b[38;5;241m0\u001b[39m\n\u001b[0;32m     39\u001b[0m     )\n\u001b[0;32m     41\u001b[0m     \u001b[38;5;28;01mreturn\u001b[39;00m merged_df\n\u001b[1;32m---> 43\u001b[0m merged_df\u001b[38;5;241m.\u001b[39mhead()\n",
      "\u001b[1;31mNameError\u001b[0m: name 'merged_df' is not defined"
     ]
    }
   ],
   "source": []
  },
  {
   "cell_type": "code",
   "execution_count": null,
   "metadata": {},
   "outputs": [
    {
     "ename": "NameError",
     "evalue": "name 'merged_df' is not defined",
     "output_type": "error",
     "traceback": [
      "\u001b[1;31m---------------------------------------------------------------------------\u001b[0m",
      "\u001b[1;31mNameError\u001b[0m                                 Traceback (most recent call last)",
      "Cell \u001b[1;32mIn[6], line 1\u001b[0m\n\u001b[1;32m----> 1\u001b[0m merged_df\u001b[38;5;241m.\u001b[39mhead()\n",
      "\u001b[1;31mNameError\u001b[0m: name 'merged_df' is not defined"
     ]
    }
   ],
   "source": []
  },
  {
   "cell_type": "code",
   "execution_count": null,
   "metadata": {},
   "outputs": [],
   "source": []
  }
 ],
 "metadata": {
  "kernelspec": {
   "display_name": "base",
   "language": "python",
   "name": "python3"
  },
  "language_info": {
   "codemirror_mode": {
    "name": "ipython",
    "version": 3
   },
   "file_extension": ".py",
   "mimetype": "text/x-python",
   "name": "python",
   "nbconvert_exporter": "python",
   "pygments_lexer": "ipython3",
   "version": "3.11.7"
  }
 },
 "nbformat": 4,
 "nbformat_minor": 2
}
